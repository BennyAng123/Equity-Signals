{
 "cells": [
  {
   "cell_type": "code",
   "execution_count": null,
   "id": "b73b4b96-ff77-4a9f-afb7-ff436268f31a",
   "metadata": {},
   "outputs": [],
   "source": [
    "'''\n",
    "\n",
    "Looping through multiple tickers\n",
    "\n",
    "Trying pycaret time series with daily S&P features (with beta and rf).\n",
    "1200 rows\n",
    "target = 'M1_forward_return'\n",
    "fold_strategy = 'expanding'\n",
    "fold=5\n",
    "fh=21\n",
    "\n",
    "Dropped Mkt_M1_forward_return\n",
    "\n",
    "SUCCESSFUL Out of sample forecast\n",
    "\n",
    "Backtesting out of sample forecast strategy to see if it outperforms a buy and hold strategy\n",
    "Strategy in this notebook is to buy if 1M predicted return is positive and have no position if 1M predicted return is negative, rebalanced daily.\n",
    "This notebook looks at stocks one at a time and does not consider portfolio performance\n",
    "\n",
    "Get beta and risk-free (rf) from SP500 betas_expectedreturns_MOM_MR_strategies\n",
    "Get S&P features from S&P500 Features\n",
    "'''"
   ]
  },
  {
   "cell_type": "code",
   "execution_count": null,
   "id": "be63e46a-0d36-401d-9ebb-8201bab42f83",
   "metadata": {},
   "outputs": [],
   "source": [
    "import matplotlib.pyplot as plt\n",
    "import numpy as np\n",
    "import pandas as pd\n",
    "import pycaret\n",
    "#from pycaret.regression import *\n",
    "from pycaret.time_series import *\n",
    "\n",
    "from pycaret.utils.time_series import clean_time_index\n",
    "\n",
    "# Yahoo finance\n",
    "import yfinance as yf\n",
    "\n",
    "# Datetime\n",
    "import datetime as dt\n",
    "from datetime import datetime"
   ]
  },
  {
   "cell_type": "code",
   "execution_count": null,
   "id": "5f68db4f-d4b9-44ac-880d-3a5bd2194125",
   "metadata": {},
   "outputs": [],
   "source": [
    "#Tickers to loop over\n",
    "Ticker_list=[\"NVDA\",\"META\",\"TSLA\",\"AMZN\",\"GOOG\",\"MSFT\",\"AAPL\",\"GS\",\"JPM\",\"NFLX\",\"NKE\",\"AAL\",\"LUV\",\"GM\"]"
   ]
  },
  {
   "cell_type": "code",
   "execution_count": null,
   "id": "7ec1b0ff-9010-4e12-8e06-a6f2938de18f",
   "metadata": {},
   "outputs": [],
   "source": [
    "#Parameters when downloading data from yfinance\n",
    "start=pd.to_datetime('2023-01-01', format='%Y-%m-%d')\n",
    "today_date = datetime.today().strftime('%Y-%m-%d')\n",
    "period=256           #lookback period for calculation of beta, realized returns\n",
    "period_1m=21"
   ]
  },
  {
   "cell_type": "code",
   "execution_count": null,
   "id": "9998e21b-c621-42f4-a0c0-ba1da5d73a04",
   "metadata": {},
   "outputs": [],
   "source": [
    "tickers = yf.Tickers(Ticker_list)"
   ]
  },
  {
   "cell_type": "code",
   "execution_count": null,
   "id": "6ed289ba-f35a-45fb-a5ec-c16872fb4026",
   "metadata": {},
   "outputs": [],
   "source": [
    "df = tickers.download(start=start,end=today_date,interval='1D',)   #['Adj Close']\n",
    "#df contains raw data downloaded from yfinance\n",
    "df1=df['Close']"
   ]
  },
  {
   "cell_type": "code",
   "execution_count": null,
   "id": "0504c647-15f7-4e8d-8938-3eafc07c0e74",
   "metadata": {},
   "outputs": [],
   "source": [
    "df1"
   ]
  },
  {
   "cell_type": "code",
   "execution_count": null,
   "id": "75561e69-434e-4793-be9e-6e6faae66285",
   "metadata": {},
   "outputs": [],
   "source": [
    "#Calculate the returns according to the trade holding period\n",
    "#This is daily returns\n",
    "returns_df = np.log(df1/df1.shift(1))"
   ]
  },
  {
   "cell_type": "code",
   "execution_count": null,
   "id": "bad8e8b5-397e-41ff-a9cd-4a26d4beb503",
   "metadata": {},
   "outputs": [],
   "source": [
    "returns_df "
   ]
  },
  {
   "cell_type": "code",
   "execution_count": null,
   "id": "44344514-7ac3-48cf-bbc5-2640a624091e",
   "metadata": {},
   "outputs": [],
   "source": [
    "# Dictionary to store DataFrames\n",
    "Yahoo_data = {}\n",
    "\n",
    "for column in returns_df.columns:\n",
    "    # Create a DataFrame for each ticker containing both price and return\n",
    "    Yahoo_data[column] = pd.concat([df1[column], returns_df[column]], axis=1)\n",
    "    Yahoo_data[column].columns = ['Price', 'Returns']\n",
    "\n",
    "    # Drop the first row since it will have NaN return\n",
    "    #dfs_by_ticker[column].dropna(inplace=True)\n",
    "\n",
    "    # Reset index\n",
    "    #dfs_by_ticker[column].reset_index(inplace=True)\n",
    "\n",
    "    # Rename the Date column to 'Date'\n",
    "    #dfs_by_ticker[column].rename(columns={'Date': 'Date'}, inplace=True)"
   ]
  },
  {
   "cell_type": "code",
   "execution_count": null,
   "id": "7bd9be5b-1cf1-4c18-8a08-153e4f7a404a",
   "metadata": {},
   "outputs": [],
   "source": [
    "Yahoo_data[\"META\"][\"Returns\"]"
   ]
  },
  {
   "cell_type": "code",
   "execution_count": null,
   "id": "2cf0583e-a667-45a4-a5e3-d1ad01d4c6c7",
   "metadata": {},
   "outputs": [],
   "source": [
    "# Dictionary to store DataFrames\n",
    "dfs = {}\n",
    "\n",
    "for ticker in Ticker_list:\n",
    "    # Replace 'path/to/your/file.csv' with the actual path to your CSV file\n",
    "    filepath = f'/Users/bennyang/Downloads/Ticker Features/{ticker} features.csv'\n",
    "    \n",
    "    # Use pandas to read the CSV file\n",
    "    dfs[ticker] = pd.read_csv(filepath)\n",
    "    \n",
    "    # Print the dataframe to verify it was read correctly\n",
    "    #print(dfs)"
   ]
  },
  {
   "cell_type": "code",
   "execution_count": null,
   "id": "a81b744a-b10e-4f44-8119-803f941c5d11",
   "metadata": {},
   "outputs": [],
   "source": [
    "for i in dfs.values():\n",
    "    i['Date'] = pd.to_datetime(i['Date'])"
   ]
  },
  {
   "cell_type": "code",
   "execution_count": null,
   "id": "bd622fd4-9b44-410b-bb01-d1e2916b6f1e",
   "metadata": {},
   "outputs": [],
   "source": [
    "# Replace 'path/to/your/file.xlsx' with the actual path to your Excel file\n",
    "Beta_rf = '/Users/bennyang/Downloads/beta&rf.csv'\n",
    "\n",
    "# Use pandas to read the Excel file\n",
    "Beta_rf = pd.read_csv(Beta_rf)\n",
    "\n",
    "# Print the dataframe to verify it was read correctly\n",
    "print(Beta_rf)"
   ]
  },
  {
   "cell_type": "code",
   "execution_count": null,
   "id": "26f1d8b7-b2c2-4a2b-b385-4cdcc15aaefe",
   "metadata": {},
   "outputs": [],
   "source": [
    "#Extract beta data and combine it with the main dataframe\n",
    "for key,value in dfs.items():\n",
    "    beta = Beta_rf[Beta_rf['Ticker'] == f'{key}']\n",
    "    beta['Date'] = pd.to_datetime(beta['Date'])\n",
    "    beta.drop('Ticker',axis=1,inplace=True)\n",
    "    dfs[key]= pd.merge(dfs[key], beta,  how='left', left_on=['Date'], right_on = ['Date'])\n",
    "    #Drop market 1 month forward return\n",
    "    dfs[key].drop('Mkt_M1_forward_return',axis=1,inplace=True) "
   ]
  },
  {
   "cell_type": "code",
   "execution_count": null,
   "id": "e02bc230-dce8-4f55-b31c-14c14908e20c",
   "metadata": {},
   "outputs": [],
   "source": [
    "'''\n",
    "#Index the dates and set frequency\n",
    "for key,value in dfs.items():\n",
    "    dfs[key].set_index(\"Date\", inplace=True)\n",
    "    dfs[key] = dfs[key].asfreq('B')\n",
    "\n",
    "'''"
   ]
  },
  {
   "cell_type": "code",
   "execution_count": null,
   "id": "a95d1cdd-6b18-413b-a9e3-0ef3d09183f6",
   "metadata": {},
   "outputs": [],
   "source": [
    "#Get the latest features to avoid NA\n",
    "#Get the test features to test out of Pycaret predictions\n",
    "#Split out the \"M1_forward_return\" to plot graph later\n",
    "#Have to remove the \"M1_forward_return\" from test features to predict model\n",
    "#Test_Features must drop M1_forward_return for PyCaret predict_model to work\n",
    "Latest_Features = {}\n",
    "Test_Features = {}\n",
    "M1_forward_return = {}\n",
    "\n",
    "#Need to edit the last values as necessary to avoid NA\n",
    "for key,value in dfs.items():\n",
    "    Latest_Features[key]= dfs[key][-1400:-221]\n",
    "    Test_Features[key]=dfs[key][-221:]\n",
    "    M1_forward_return[key]=Test_Features[key][['M1_forward_return','Date']]      #Used for plotting the chart of actual one-month forward returns later\n",
    "    Test_Features[key].drop('M1_forward_return',axis=1,inplace=True)"
   ]
  },
  {
   "cell_type": "code",
   "execution_count": null,
   "id": "c1b7e78a-74df-45bd-91df-630d5acae66e",
   "metadata": {},
   "outputs": [],
   "source": [
    "M1_forward_return['TSLA']"
   ]
  },
  {
   "cell_type": "code",
   "execution_count": null,
   "id": "9bae2a34-aec5-46b3-828b-abb82c0f9a01",
   "metadata": {},
   "outputs": [],
   "source": [
    "'''\n",
    "\n",
    "#Using top 3 models to forecast\n",
    "for key,value in Latest_Features.items():\n",
    "    \n",
    "    model = setup(Latest_Features[key], target = 'M1_forward_return',fold_strategy = 'expanding', fold=5, fh=21, n_jobs=-1,\n",
    "                  scale_target = 'zscore', scale_exogenous= 'zscore',\n",
    "                  session_id=123, numeric_imputation_target=\"ffill\", numeric_imputation_exogenous=\"ffill\",\n",
    "                  log_experiment=False, experiment_name=f'{key} experiment')\n",
    "\n",
    "    best_3model = compare_models(n_select = 3,exclude = \"auto_arima\")\n",
    "    blend = blend_models(best_3model)\n",
    "    # plot forecast for 21 sessions in future\n",
    "    plot_model(blend, plot = 'forecast', data_kwargs = {'fh' : 21})\n",
    "\n",
    "'''    "
   ]
  },
  {
   "cell_type": "code",
   "execution_count": null,
   "id": "0ea5a867-bd03-4b98-8e4f-8d291a492348",
   "metadata": {},
   "outputs": [],
   "source": [
    "#Using solely ARIMA to forecast\n",
    "\n",
    "Ticker_backtest = {}\n",
    "y_pred = {}\n",
    "y_pred1={}\n",
    "\n",
    "for key,value in Latest_Features.items():\n",
    "    \n",
    "    model = setup(Latest_Features[key], target = 'M1_forward_return',fold_strategy = 'expanding', fold=5, fh=21, n_jobs=-1,\n",
    "                  scale_target = 'zscore', scale_exogenous= 'zscore',\n",
    "                  session_id=123, numeric_imputation_target=\"ffill\", numeric_imputation_exogenous=\"ffill\",\n",
    "                  log_experiment=False, experiment_name=f'{key} experiment')\n",
    "\n",
    "    #best_3model = compare_models(n_select = 3,exclude = \"auto_arima\")\n",
    "    #blend = blend_models(best_3model)\n",
    "    # plot forecast for 21 sessions in future\n",
    "    arima = create_model('arima')\n",
    "    plot_model(arima, plot = 'forecast', data_kwargs = {'fh' : 21})\n",
    "    final_model = finalize_model(arima)\n",
    "    test_length=Test_Features[key].shape[0]\n",
    "    y_pred[key]=predict_model(final_model , X = Test_Features[key],fh=test_length)\n",
    "    \n",
    "    #Set up a temporary df to plot the predicted vs actual forward returns with dates\n",
    "    temp_df= pd.merge(y_pred[key], M1_forward_return[key], left_index=True, right_index=True)\n",
    "    temp_df.set_index('Date',inplace=True)\n",
    "    \n",
    "    plt.figure()\n",
    "    plt.plot(temp_df['y_pred'],color='green',label=f'{key} Prediction')\n",
    "    plt.plot(temp_df['M1_forward_return'],color='red',label=f'{key} Actual')\n",
    "    plt.title(f'{key} Actual vs predicted 1 month ahead returns')\n",
    "    plt.xlabel(\"Session\")\n",
    "    plt.ylabel(\"Return 1 month ahead\")\n",
    "    plt.legend()\n",
    "    plt.show();\n",
    "\n",
    "    Date_df1=Test_Features[key][\"Date\"]\n",
    "    Date_df2=Date_df1.reset_index()\n",
    "    \n",
    "    #Matching date with index number\n",
    "    Ticker_backtest[key] = pd.merge(Yahoo_data[key], Date_df2,  how='left', left_on=['Date'], right_on = ['Date'])\n",
    "    y_pred1[key]=y_pred[key].reset_index()\n",
    "    Ticker_backtest[key]=pd.merge(Ticker_backtest[key] , y_pred1[key], how='left', left_on=['index'], right_on = ['index'])\n",
    "\n",
    "    #Dropna just for index and y_pred\n",
    "    Ticker_backtest[key].dropna(axis=0,subset=['index', 'y_pred'], inplace=True)\n",
    "    \n",
    "    #Generating signals, buy if expected return in 1 month is positive, sell otherwise\n",
    "    Ticker_backtest[key]['Signal']=np.nan\n",
    "\n",
    "    #If prediction is positive, buy (1), if prediction is negative, have no position (0)\n",
    "    Ticker_backtest[key].loc[Ticker_backtest[key]['y_pred'] > 0, 'Signal'] = 1\n",
    "    Ticker_backtest[key].loc[Ticker_backtest[key]['y_pred'] < 0, 'Signal'] = 0\n",
    "    Ticker_backtest[key].loc[Ticker_backtest[key]['y_pred'] == 0, 'Signal'] = 0\n",
    "    \n",
    "    Ticker_backtest[key]['Signal Returns']= Ticker_backtest[key]['Returns']*Ticker_backtest[key]['Signal'].shift(1)\n",
    "    \n",
    "    Ticker_backtest[key]['CumulativeStrategyReturns'] = (1 + Ticker_backtest[key]['Signal Returns']).cumprod() - 1\n",
    "    Ticker_backtest[key]['CumulativeBuyHoldReturns'] = (1 + Ticker_backtest[key]['Returns']).cumprod() - 1\n",
    "    \n",
    "    Ticker_backtest[key].set_index('Date',inplace=True)\n",
    "    \n",
    "    plt.figure()\n",
    "    plt.plot(Ticker_backtest[key]['CumulativeStrategyReturns'],color='green',label='CumulativeStrategyReturns')\n",
    "    plt.plot(Ticker_backtest[key]['CumulativeBuyHoldReturns'],color='red',label='CumulativeBuyHoldReturns')\n",
    "    plt.title(f'{key} Returns')\n",
    "    plt.xlabel(\"Time\")\n",
    "    plt.ylabel(\"Returns\")\n",
    "    plt.legend();"
   ]
  },
  {
   "cell_type": "code",
   "execution_count": null,
   "id": "8fab74c6-322a-49af-821c-38a7ac2dbb53",
   "metadata": {},
   "outputs": [],
   "source": []
  }
 ],
 "metadata": {
  "kernelspec": {
   "display_name": "Python 3 (ipykernel)",
   "language": "python",
   "name": "python3"
  },
  "language_info": {
   "codemirror_mode": {
    "name": "ipython",
    "version": 3
   },
   "file_extension": ".py",
   "mimetype": "text/x-python",
   "name": "python",
   "nbconvert_exporter": "python",
   "pygments_lexer": "ipython3",
   "version": "3.10.6"
  }
 },
 "nbformat": 4,
 "nbformat_minor": 5
}
