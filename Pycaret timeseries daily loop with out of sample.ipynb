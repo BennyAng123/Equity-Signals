{
 "cells": [
  {
   "cell_type": "code",
   "execution_count": null,
   "id": "b73b4b96-ff77-4a9f-afb7-ff436268f31a",
   "metadata": {},
   "outputs": [],
   "source": [
    "'''\n",
    "\n",
    "Looping through multiple tickers\n",
    "\n",
    "Trying pycaret time series with daily S&P features (with beta and rf).\n",
    "1200 rows\n",
    "target = 'M1_forward_return'\n",
    "fold_strategy = 'expanding'\n",
    "fold=5\n",
    "fh=21\n",
    "\n",
    "Dropped Mkt_M1_forward_return\n",
    "\n",
    "SUCCESSFUL Out of sample forecast\n",
    "'''"
   ]
  },
  {
   "cell_type": "code",
   "execution_count": null,
   "id": "be63e46a-0d36-401d-9ebb-8201bab42f83",
   "metadata": {},
   "outputs": [],
   "source": [
    "import matplotlib.pyplot as plt\n",
    "import numpy as np\n",
    "import pandas as pd\n",
    "import pycaret\n",
    "#from pycaret.regression import *\n",
    "from pycaret.time_series import *\n",
    "\n",
    "from pycaret.utils.time_series import clean_time_index"
   ]
  },
  {
   "cell_type": "code",
   "execution_count": null,
   "id": "5f68db4f-d4b9-44ac-880d-3a5bd2194125",
   "metadata": {},
   "outputs": [],
   "source": [
    "#Tickers to loop over\n",
    "Ticker_list=[\"NVDA\",\"META\",\"TSLA\",\"AMZN\",\"GOOG\",\"MSFT\",\"AAPL\",\"GS\",\"JPM\",\"NFLX\",\"NKE\",\"AAL\",\"LUV\",\"GM\"]"
   ]
  },
  {
   "cell_type": "code",
   "execution_count": null,
   "id": "2cf0583e-a667-45a4-a5e3-d1ad01d4c6c7",
   "metadata": {},
   "outputs": [],
   "source": [
    "# Dictionary to store DataFrames\n",
    "dfs = {}\n",
    "\n",
    "for ticker in Ticker_list:\n",
    "    # Replace 'path/to/your/file.csv' with the actual path to your CSV file\n",
    "    filepath = f'/Users/bennyang/Downloads/{ticker} features.csv'\n",
    "    \n",
    "    # Use pandas to read the CSV file\n",
    "    dfs[ticker] = pd.read_csv(filepath)\n",
    "    \n",
    "    # Print the dataframe to verify it was read correctly\n",
    "    #print(dfs)"
   ]
  },
  {
   "cell_type": "code",
   "execution_count": null,
   "id": "a81b744a-b10e-4f44-8119-803f941c5d11",
   "metadata": {},
   "outputs": [],
   "source": [
    "for i in dfs.values():\n",
    "    i['Date'] = pd.to_datetime(i['Date'])"
   ]
  },
  {
   "cell_type": "code",
   "execution_count": null,
   "id": "bd622fd4-9b44-410b-bb01-d1e2916b6f1e",
   "metadata": {},
   "outputs": [],
   "source": [
    "# Replace 'path/to/your/file.xlsx' with the actual path to your Excel file\n",
    "Beta_rf = '/Users/bennyang/Downloads/beta&rf.csv'\n",
    "\n",
    "# Use pandas to read the Excel file\n",
    "Beta_rf = pd.read_csv(Beta_rf)\n",
    "\n",
    "# Print the dataframe to verify it was read correctly\n",
    "print(Beta_rf)"
   ]
  },
  {
   "cell_type": "code",
   "execution_count": null,
   "id": "26f1d8b7-b2c2-4a2b-b385-4cdcc15aaefe",
   "metadata": {},
   "outputs": [],
   "source": [
    "#Extract beta data and combine it with the main dataframe\n",
    "for key,value in dfs.items():\n",
    "    beta = Beta_rf[Beta_rf['Ticker'] == f'{key}']\n",
    "    beta['Date'] = pd.to_datetime(beta['Date'])\n",
    "    beta.drop('Ticker',axis=1,inplace=True)\n",
    "    dfs[key]= pd.merge(dfs[key], beta,  how='left', left_on=['Date'], right_on = ['Date'])\n",
    "    #Drop market 1 month forward return\n",
    "    dfs[key].drop('Mkt_M1_forward_return',axis=1,inplace=True) "
   ]
  },
  {
   "cell_type": "code",
   "execution_count": null,
   "id": "e02bc230-dce8-4f55-b31c-14c14908e20c",
   "metadata": {},
   "outputs": [],
   "source": [
    "'''\n",
    "#Index the dates and set frequency\n",
    "for key,value in dfs.items():\n",
    "    dfs[key].set_index(\"Date\", inplace=True)\n",
    "    dfs[key] = dfs[key].asfreq('B')\n",
    "\n",
    "'''"
   ]
  },
  {
   "cell_type": "code",
   "execution_count": null,
   "id": "a95d1cdd-6b18-413b-a9e3-0ef3d09183f6",
   "metadata": {},
   "outputs": [],
   "source": [
    "#Get the latest features to avoid NA\n",
    "Latest_Features = {}\n",
    "Test_Features = {}\n",
    "M1_forward_return = {}\n",
    "\n",
    "#Need to edit the last values as necessary to avoid NA\n",
    "for key,value in dfs.items():\n",
    "    Latest_Features[key]= dfs[key][-1400:-221]\n",
    "    Test_Features[key]=dfs[key][-221:]\n",
    "    M1_forward_return[key]=Test_Features[key]['M1_forward_return']\n",
    "    Test_Features[key].drop('M1_forward_return',axis=1,inplace=True)"
   ]
  },
  {
   "cell_type": "code",
   "execution_count": null,
   "id": "c1b7e78a-74df-45bd-91df-630d5acae66e",
   "metadata": {},
   "outputs": [],
   "source": [
    "Latest_Features['TSLA']['M1_forward_return']"
   ]
  },
  {
   "cell_type": "code",
   "execution_count": null,
   "id": "9bae2a34-aec5-46b3-828b-abb82c0f9a01",
   "metadata": {},
   "outputs": [],
   "source": [
    "#Using top 3 models to forecast\n",
    "for key,value in Latest_Features.items():\n",
    "    \n",
    "    model = setup(Latest_Features[key], target = 'M1_forward_return',fold_strategy = 'expanding', fold=5, fh=21, n_jobs=-1,\n",
    "                  scale_target = 'zscore', scale_exogenous= 'zscore',\n",
    "                  session_id=123, numeric_imputation_target=\"ffill\", numeric_imputation_exogenous=\"ffill\",\n",
    "                  log_experiment=False, experiment_name=f'{key} experiment')\n",
    "\n",
    "    best_3model = compare_models(n_select = 3,exclude = \"auto_arima\")\n",
    "    blend = blend_models(best_3model)\n",
    "    # plot forecast for 21 sessions in future\n",
    "    plot_model(blend, plot = 'forecast', data_kwargs = {'fh' : 21})"
   ]
  },
  {
   "cell_type": "code",
   "execution_count": null,
   "id": "0ea5a867-bd03-4b98-8e4f-8d291a492348",
   "metadata": {},
   "outputs": [],
   "source": [
    "#Using solely ARIMA to forecast\n",
    "for key,value in Latest_Features.items():\n",
    "    \n",
    "    model = setup(Latest_Features[key], target = 'M1_forward_return',fold_strategy = 'expanding', fold=5, fh=21, n_jobs=-1,\n",
    "                  scale_target = 'zscore', scale_exogenous= 'zscore',\n",
    "                  session_id=123, numeric_imputation_target=\"ffill\", numeric_imputation_exogenous=\"ffill\",\n",
    "                  log_experiment=False, experiment_name=f'{key} experiment')\n",
    "\n",
    "    #best_3model = compare_models(n_select = 3,exclude = \"auto_arima\")\n",
    "    #blend = blend_models(best_3model)\n",
    "    # plot forecast for 21 sessions in future\n",
    "    arima = create_model('arima')\n",
    "    plot_model(arima, plot = 'forecast', data_kwargs = {'fh' : 21})\n",
    "    final_model = finalize_model(arima)\n",
    "    test_length=Test_Features[key].shape[0]\n",
    "    y_pred=predict_model(final_model , X = Test_Features[key],fh=test_length)\n",
    "    \n",
    "    plt.figure()\n",
    "    plt.plot(y_pred,color='green',label=f'{key} Prediction')\n",
    "    plt.plot(M1_forward_return[key],color='red',label=f'{key} Actual')\n",
    "    plt.title(f'{key} Actual vs predicted 1 month ahead returns')\n",
    "    plt.xlabel(\"Session\")\n",
    "    plt.ylabel(\"Return 1 month ahead\")\n",
    "    plt.legend()\n",
    "    plt.show();"
   ]
  },
  {
   "cell_type": "code",
   "execution_count": null,
   "id": "8fab74c6-322a-49af-821c-38a7ac2dbb53",
   "metadata": {},
   "outputs": [],
   "source": []
  }
 ],
 "metadata": {
  "kernelspec": {
   "display_name": "Python 3 (ipykernel)",
   "language": "python",
   "name": "python3"
  },
  "language_info": {
   "codemirror_mode": {
    "name": "ipython",
    "version": 3
   },
   "file_extension": ".py",
   "mimetype": "text/x-python",
   "name": "python",
   "nbconvert_exporter": "python",
   "pygments_lexer": "ipython3",
   "version": "3.10.6"
  }
 },
 "nbformat": 4,
 "nbformat_minor": 5
}
